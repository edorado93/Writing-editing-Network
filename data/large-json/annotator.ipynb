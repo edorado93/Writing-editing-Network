{
 "cells": [
  {
   "cell_type": "code",
   "execution_count": null,
   "metadata": {},
   "outputs": [],
   "source": [
    "ls"
   ]
  },
  {
   "cell_type": "code",
   "execution_count": null,
   "metadata": {},
   "outputs": [],
   "source": [
    "import json\n",
    "dictionary = {\"i\": \"INTRODUCTION\", \"b\": \"BODY\", \"c\": \"CONCLUSION\"}\n",
    "done_file = set(list(map(str.strip,open(\"done.txt\").readlines())))\n",
    "done = set()\n",
    "ignored_titles = set(list(map(str.strip,open(\"ignored.txt\").readlines())))\n",
    "write_to_file = []"
   ]
  },
  {
   "cell_type": "code",
   "execution_count": null,
   "metadata": {},
   "outputs": [],
   "source": [
    "c = 1\n",
    "with open(\"train.dat\") as f:\n",
    "    for line in f:\n",
    "        j = json.loads(line)\n",
    "        title = j[\"title\"]\n",
    "\n",
    "        if title in done or title in done_file or title in ignored_titles:\n",
    "            continue\n",
    "\n",
    "        if any(ignore in j[\"abstract\"] for ignore in ['i.e .', 'e.g .', 'etc .']):\n",
    "            continue\n",
    "\n",
    "        abstract = j[\"abstract\"].split(\" . \")\n",
    "        print(\"\\n\\n***************************** Abstract is: **************************\")\n",
    "        print(\"\\n\".join(abstract))\n",
    "\n",
    "        consider_this = input(\"\\n is this ok ? \\n\")\n",
    "        if consider_this in [\"yes\", \"y\"]:\n",
    "            new_abstract = []\n",
    "            for a in abstract:\n",
    "                labelling = input(a)\n",
    "                new_abstract.append((dictionary[labelling], a))\n",
    "\n",
    "            j[\"abstract\"] = new_abstract\n",
    "            write_to_file.append(j)\n",
    "            done.add(title)\n",
    "            \n",
    "            if c % 20 == 0:\n",
    "                break\n",
    "            c += 1    \n",
    "            \n",
    "        else:\n",
    "            ignored_titles.add(title)\n",
    "\n"
   ]
  },
  {
   "cell_type": "code",
   "execution_count": null,
   "metadata": {},
   "outputs": [],
   "source": [
    "len(ignored_titles), len(done), len(write_to_file), len(done_file)"
   ]
  },
  {
   "cell_type": "code",
   "execution_count": null,
   "metadata": {},
   "outputs": [],
   "source": [
    "with open(\"ignored.txt\", \"w\") as f2:\n",
    "    with open(\"labelled.txt\", \"a\") as f:\n",
    "        with open(\"done.txt\", \"a\") as f1:\n",
    "            for i in ignored_titles:\n",
    "                f2.write(i+\"\\n\")\n",
    "            for t in done:\n",
    "                f1.write(t+\"\\n\")\n",
    "            for a in write_to_file:\n",
    "                f.write(json.dumps(a)+\"\\n\")"
   ]
  },
  {
   "cell_type": "code",
   "execution_count": null,
   "metadata": {},
   "outputs": [],
   "source": []
  }
 ],
 "metadata": {
  "kernelspec": {
   "display_name": "Python 3",
   "language": "python",
   "name": "python3"
  },
  "language_info": {
   "codemirror_mode": {
    "name": "ipython",
    "version": 3
   },
   "file_extension": ".py",
   "mimetype": "text/x-python",
   "name": "python",
   "nbconvert_exporter": "python",
   "pygments_lexer": "ipython3",
   "version": "3.6.5"
  }
 },
 "nbformat": 4,
 "nbformat_minor": 2
}
