{
 "cells": [
  {
   "cell_type": "markdown",
   "metadata": {},
   "source": [
    "## Load data processed till now.\n",
    "* `dictionary` makes it easier for us to annotate. We can simply press one of three keys `i`, `b`, or `c` and the corresponing label gets attached with the sentence\n",
    "* `done_file` is a set of already annotated titles. \n",
    "* The set `done` is to have the titles that we will process now. \n",
    "* `ignored_titles` is the set containing all the titles that we REJECTED.\n",
    "* `write_to_file` contains the new JSON objects having the structural information as well."
   ]
  },
  {
   "cell_type": "code",
   "execution_count": null,
   "metadata": {},
   "outputs": [],
   "source": [
    "import json\n",
    "dictionary = {\"i\": \"INTRODUCTION\", \"b\": \"BODY\", \"c\": \"CONCLUSION\"}\n",
    "done_file = set(list(map(str.strip,open(\"done.txt\").readlines())))\n",
    "done = set()\n",
    "ignored_titles = set(list(map(str.strip,open(\"ignored.txt\").readlines())))\n",
    "write_to_file = []\n",
    "c = 1"
   ]
  },
  {
   "cell_type": "markdown",
   "metadata": {},
   "source": [
    "# The Annotation Job\n",
    "* Iterate over abstracts from a file called `train.dat`.\n",
    "* Ignore the title/abstract in case it is already done or if it has been rehected before.\n",
    "* We also reject titles containing `i.e.` or `e.g.`. NLTK tokenization breaks this up as `i . e .` and then we can't split on a `.`. So, we ignore these from manual annotation. "
   ]
  },
  {
   "cell_type": "code",
   "execution_count": null,
   "metadata": {},
   "outputs": [],
   "source": [
    "with open(\"train.dat\") as f:\n",
    "    for line in f:\n",
    "        j = json.loads(line)\n",
    "        title = j[\"title\"]\n",
    "\n",
    "        if title in done or title in done_file or title in ignored_titles:\n",
    "            continue\n",
    "\n",
    "        if any(ignore in j[\"abstract\"] for ignore in ['i.e .', 'e.g .', 'etc .']):\n",
    "            continue\n",
    "\n",
    "        abstract = j[\"abstract\"].split(\" . \")\n",
    "        print(\"\\n\\n***************************** Abstract is: **************************\")\n",
    "        print(\"\\n\".join(abstract))\n",
    "\n",
    "        consider_this = input(\"\\n is this ok ? \\n\")\n",
    "        \n",
    "        # Pressing anything other than these two keys would cause the \n",
    "        # title to be ignored. \n",
    "        if consider_this in [\"yes\", \"y\"]:\n",
    "            new_abstract = []\n",
    "            for a in abstract:\n",
    "                # You can only enter one of i, b or c\n",
    "                # i = Introduction\n",
    "                # b = Body\n",
    "                # c = Conclusion\n",
    "                labelling = input(a)\n",
    "                new_abstract.append((dictionary[labelling], a))\n",
    "\n",
    "            j[\"abstract\"] = new_abstract\n",
    "            write_to_file.append(j)\n",
    "            done.add(title)\n",
    "            \n",
    "            # Break after processing 20 abstracts so that we can save the \n",
    "            # progress in the output file. \n",
    "            if c % 20 == 0:\n",
    "                break\n",
    "            c += 1    \n",
    "            \n",
    "        else:\n",
    "            ignored_titles.add(title)\n",
    "\n"
   ]
  },
  {
   "cell_type": "markdown",
   "metadata": {},
   "source": [
    "## Sanity"
   ]
  },
  {
   "cell_type": "code",
   "execution_count": 224,
   "metadata": {},
   "outputs": [
    {
     "data": {
      "text/plain": [
       "(359, 0, 0, 1500)"
      ]
     },
     "execution_count": 224,
     "metadata": {},
     "output_type": "execute_result"
    }
   ],
   "source": [
    "len(ignored_titles), len(done), len(write_to_file), len(done_file)"
   ]
  },
  {
   "cell_type": "markdown",
   "metadata": {},
   "source": [
    "## Write the new data to file"
   ]
  },
  {
   "cell_type": "code",
   "execution_count": null,
   "metadata": {},
   "outputs": [],
   "source": [
    "with open(\"ignored.txt\", \"w\") as f2:\n",
    "    with open(\"labelled.txt\", \"a\") as f:\n",
    "        with open(\"done.txt\", \"a\") as f1:\n",
    "            for i in ignored_titles:\n",
    "                f2.write(i+\"\\n\")\n",
    "            for t in done:\n",
    "                f1.write(t+\"\\n\")\n",
    "            for a in write_to_file:\n",
    "                f.write(json.dumps(a)+\"\\n\")"
   ]
  }
 ],
 "metadata": {
  "kernelspec": {
   "display_name": "Python 3",
   "language": "python",
   "name": "python3"
  },
  "language_info": {
   "codemirror_mode": {
    "name": "ipython",
    "version": 3
   },
   "file_extension": ".py",
   "mimetype": "text/x-python",
   "name": "python",
   "nbconvert_exporter": "python",
   "pygments_lexer": "ipython3",
   "version": "3.6.5"
  }
 },
 "nbformat": 4,
 "nbformat_minor": 2
}
