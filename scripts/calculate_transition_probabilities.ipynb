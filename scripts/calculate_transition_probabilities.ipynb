{
 "cells": [
  {
   "cell_type": "code",
   "execution_count": 2,
   "metadata": {},
   "outputs": [],
   "source": [
    "def get_label_and_sentence_pub_med(path):\n",
    "    data = []\n",
    "    sent_labels = []\n",
    "    with open(path) as f:\n",
    "        for line in f:\n",
    "            if line.startswith(\"###\") or line == \"\\n\":\n",
    "                data.append(sent_labels)\n",
    "                sent_labels = []\n",
    "                continue\n",
    "            else:\n",
    "                lab, *sent = line.lower().split()\n",
    "                lab = labels[lab]\n",
    "                sent_labels.append(lab)\n",
    "    return data             "
   ]
  },
  {
   "cell_type": "code",
   "execution_count": 3,
   "metadata": {},
   "outputs": [],
   "source": [
    "def get_label_and_sentence_arxiv(path):\n",
    "    import json\n",
    "    data = []\n",
    "    with open(path) as f:\n",
    "        for i, line in enumerate(f):\n",
    "            j = json.loads(line.strip())\n",
    "            abstract = j[\"abstract\"].split(\" . \")\n",
    "            word_labels = j[\"labels\"]\n",
    "            sent_labels = []\n",
    "            pointer = 0\n",
    "            for sent in abstract:\n",
    "                sent_labels.append(word_labels[pointer])\n",
    "                pointer += len(sent.split()) + 1\n",
    "            data.append(sent_labels)\n",
    "    return data        "
   ]
  },
  {
   "cell_type": "code",
   "execution_count": 4,
   "metadata": {},
   "outputs": [],
   "source": [
    "labels = {\"background\": \"introduction\", \"objective\": \"introduction\", \"methods\": \"body\", \"results\": \"conclusion\", \"conclusions\": \"conclusion\"}\n",
    "sent_annotates = {\"introduction\": 1, \"body\": 2, \"conclusion\": 3}\n",
    "counts = {}\n",
    "indi = {}\n",
    "#data = get_label_and_sentence_pub_med(\"data.txt\")\n",
    "data = get_label_and_sentence_arxiv(\"arxiv.txt\")\n",
    "for sent_labels in data:\n",
    "    prev = None\n",
    "    for lab in sent_labels:\n",
    "        if not prev:\n",
    "            prev = lab\n",
    "        else:    \n",
    "            counts[(prev, lab)] = counts.get((prev, lab), 0) + 1\n",
    "            indi[prev] = indi.get(prev, 0) + 1\n",
    "            prev = lab"
   ]
  },
  {
   "cell_type": "code",
   "execution_count": 5,
   "metadata": {},
   "outputs": [
    {
     "data": {
      "text/plain": [
       "{('introduction', 'introduction'): 18371,\n",
       " ('introduction', 'body'): 33884,\n",
       " ('body', 'body'): 80290,\n",
       " ('body', 'introduction'): 5924,\n",
       " ('body', 'conclusion'): 26027,\n",
       " ('introduction', 'conclusion'): 2181,\n",
       " ('conclusion', 'conclusion'): 6540,\n",
       " ('conclusion', 'body'): 11881,\n",
       " ('conclusion', 'introduction'): 93}"
      ]
     },
     "execution_count": 5,
     "metadata": {},
     "output_type": "execute_result"
    }
   ],
   "source": [
    "counts"
   ]
  },
  {
   "cell_type": "code",
   "execution_count": 6,
   "metadata": {},
   "outputs": [
    {
     "data": {
      "text/plain": [
       "{'introduction': 54436, 'body': 112241, 'conclusion': 18514}"
      ]
     },
     "execution_count": 6,
     "metadata": {},
     "output_type": "execute_result"
    }
   ],
   "source": [
    "indi"
   ]
  },
  {
   "cell_type": "code",
   "execution_count": 7,
   "metadata": {},
   "outputs": [
    {
     "name": "stdout",
     "output_type": "stream",
     "text": [
      "introduction --> introduction 0.3374788742743772\n",
      "introduction --> body 0.6224557278271732\n",
      "introduction --> conclusion 0.04006539789844955\n",
      "body --> introduction 0.05277928742616334\n",
      "body --> body 0.715335750750617\n",
      "body --> conclusion 0.2318849618232197\n",
      "conclusion --> introduction 0.005023225667062764\n",
      "conclusion --> body 0.6417305822620719\n",
      "conclusion --> conclusion 0.3532461920708653\n"
     ]
    }
   ],
   "source": [
    "sent_annotates = [\"introduction\", \"body\", \"conclusion\"]\n",
    "for i in range(3):\n",
    "    for j in range(3):\n",
    "        if (sent_annotates[i], sent_annotates[j]) in counts:\n",
    "            print(sent_annotates[i],\"-->\",sent_annotates[j], counts[(sent_annotates[i], sent_annotates[j])] / indi[sent_annotates[i]])"
   ]
  },
  {
   "cell_type": "code",
   "execution_count": null,
   "metadata": {},
   "outputs": [],
   "source": []
  }
 ],
 "metadata": {
  "kernelspec": {
   "display_name": "Python 3",
   "language": "python",
   "name": "python3"
  },
  "language_info": {
   "codemirror_mode": {
    "name": "ipython",
    "version": 3
   },
   "file_extension": ".py",
   "mimetype": "text/x-python",
   "name": "python",
   "nbconvert_exporter": "python",
   "pygments_lexer": "ipython3",
   "version": "3.6.5"
  }
 },
 "nbformat": 4,
 "nbformat_minor": 2
}
