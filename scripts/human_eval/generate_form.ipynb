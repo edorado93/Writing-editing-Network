{
 "cells": [
  {
   "cell_type": "code",
   "execution_count": 73,
   "metadata": {},
   "outputs": [],
   "source": [
    "import json\n",
    "import random\n",
    "from IPython.display import clear_output"
   ]
  },
  {
   "cell_type": "code",
   "execution_count": 81,
   "metadata": {},
   "outputs": [],
   "source": [
    "def prepare_turing_block(block_num):\n",
    "    \"\"\"\n",
    "        Block-1: {Same Title Questions preparation}\n",
    "        * Chose real from N - 1 fake ones.\n",
    "        * N in our case is 3\n",
    "        * We need 20 questions from here\n",
    "    \"\"\" \n",
    "    \n",
    "    \"\"\"\n",
    "        Block-2: {Different Title Questions preparation}\n",
    "        * Chose fake from N - 1 real ones.\n",
    "        * N in our case is 3\n",
    "        * We need 20 questions from here\n",
    "    \"\"\" \n",
    "    \n",
    "    # 10 from the Kevin Knight's model\n",
    "    kevin_block = open(\"arxiv-dataset/Turing/Block-{}/B{}-K.txt\".format(block_num, block_num)).readline()\n",
    "    kevin_block = list(json.loads(kevin_block).values())\n",
    "    random.shuffle(kevin_block)\n",
    "    kevin_block = kevin_block[:10]\n",
    "    \n",
    "    # 10 from the WEPGen model\n",
    "    wepgen_block = open(\"arxiv-dataset/Turing/Block-{}/B{}-W.txt\".format(block_num, block_num)).readline()\n",
    "    wepgen_block = list(json.loads(wepgen_block).values())\n",
    "    random.shuffle(wepgen_block)\n",
    "    wepgen_block = wepgen_block[:10]\n",
    "    \n",
    "    block = kevin_block + wepgen_block\n",
    "    random.shuffle(block)\n",
    "    return block"
   ]
  },
  {
   "cell_type": "code",
   "execution_count": 82,
   "metadata": {},
   "outputs": [],
   "source": [
    "def prepare_qualitative():\n",
    "    \"\"\"\n",
    "        Qualitative samples\n",
    "        We need 30 questions from here\n",
    "    \"\"\" \n",
    "    \n",
    "    # 10 from the WEPGen model\n",
    "    wepgen = open(\"arxiv-dataset/Qualitative/W.txt\").readline()\n",
    "    wepgen = list(json.loads(wepgen).values())\n",
    "    random.shuffle(wepgen)\n",
    "    wepgen = wepgen[:10]\n",
    "    wepgen_final = [(t, a, \"WEPGen\") for t, a in wepgen]\n",
    "    done_titles = {k : True for k,_ in wepgen}\n",
    "    \n",
    "    # 10 from the Kevin Knight's model\n",
    "    kevin = open(\"arxiv-dataset/Qualitative/K.txt\").readline()\n",
    "    kevin = list(json.loads(kevin).values())\n",
    "    formed = False\n",
    "    while not formed:\n",
    "        random.shuffle(kevin)\n",
    "        kevin_final = []\n",
    "        for t, a in kevin:\n",
    "            if t not in done_titles:\n",
    "                kevin_final.append((t, a, \"Kevin\"))\n",
    "                if len(kevin_final) == 10:\n",
    "                    formed = True\n",
    "                    break\n",
    "        if not formed:\n",
    "            print(\"Trying again for Kevin's abstracts\")\n",
    "    \n",
    "    # 10 abstracts from the original set\n",
    "    original_options = []\n",
    "    original_final = []\n",
    "    with open(\"arxiv-dataset/arxiv-original.txt\") as f:\n",
    "        for line in f:\n",
    "            j = json.loads(line)\n",
    "            original_options.append((j[\"title\"], j[\"abstract\"]))\n",
    "    random.shuffle(original_options)        \n",
    "    for t, a in original_options:\n",
    "        if t not in done_titles:\n",
    "            original_final.append((t, a, \"Original\"))\n",
    "            if len(original_final) == 10:\n",
    "                break\n",
    "\n",
    "    qualitative_samples = kevin_final + wepgen_final + original_final\n",
    "    random.shuffle(qualitative_samples)\n",
    "    return qualitative_samples"
   ]
  },
  {
   "cell_type": "code",
   "execution_count": 97,
   "metadata": {},
   "outputs": [],
   "source": [
    "turing_block1 = prepare_turing_block(block_num=1)\n",
    "turing_block2 = prepare_turing_block(block_num=2)\n",
    "qualitative = prepare_qualitative()"
   ]
  },
  {
   "cell_type": "code",
   "execution_count": null,
   "metadata": {},
   "outputs": [],
   "source": [
    "print(\"Add questions to Turing Block -- 1\")\n",
    "for question in turing_block1:\n",
    "    abstracts = question[1:]\n",
    "    random.shuffle(abstracts)\n",
    "    question[1:] = abstracts\n",
    "    print(\"***************************\")\n",
    "    print(\"Title: {}\\n\\n\".format(question[0]))\n",
    "    print(\"{} Abstract: {}\\n\\n\".format(abstracts[0][1], abstracts[0][0]))\n",
    "    print(\"{} Abstract: {}\\n\\n\".format(abstracts[1][1], abstracts[1][0]))\n",
    "    print(\"{} Abstract: {}\\n\\n\".format(abstracts[2][1], abstracts[2][0]))\n",
    "    input()\n",
    "    \n",
    "clear_output()\n",
    "\n",
    "print(\"Add questions to Turing Block -- 2\")\n",
    "for question in turing_block2:\n",
    "    random.shuffle(question)\n",
    "    print(\"***************************\")\n",
    "    print(\"{} Title: {}\\nAbstract: {}\\n\\n\".format(question[0][2], question[0][0], question[0][1]))\n",
    "    print(\"{} Title: {}\\nAbstract: {}\\n\\n\".format(question[1][2], question[1][0], question[1][1]))\n",
    "    print(\"{} Title: {}\\nAbstract: {}\\n\\n\".format(question[2][2], question[2][0], question[2][1]))\n",
    "    input()\n",
    "\n",
    "clear_output()\n",
    "\n",
    "print(\"Add questions to Qualitative Form\")\n",
    "for question in qualitative:\n",
    "    print(\"***************************\")\n",
    "    print(\"Title: {}\\nAbstract: {}\\nType: {}\\n\\n\".format(question[0], question[1], question[2]))\n",
    "    input()"
   ]
  },
  {
   "cell_type": "code",
   "execution_count": 102,
   "metadata": {},
   "outputs": [],
   "source": [
    "with open(\"../human_eval/forms/xmla/turing/block1/turing_block_B.txt\", \"w\") as f:\n",
    "    f.write(json.dumps({\"block\": turing_block1}))\n",
    "with open(\"../human_eval/forms/xmla/turing/block2/turing_block_B.txt\", \"w\") as f:\n",
    "    f.write(json.dumps({\"block\": turing_block2}))\n",
    "with open(\"../human_eval/forms/xmla/qualitative/block_B.txt\", \"w\") as f:\n",
    "    f.write(json.dumps({\"block\": qualitative}))"
   ]
  },
  {
   "cell_type": "code",
   "execution_count": null,
   "metadata": {},
   "outputs": [],
   "source": []
  }
 ],
 "metadata": {
  "kernelspec": {
   "display_name": "Python 3",
   "language": "python",
   "name": "python3"
  },
  "language_info": {
   "codemirror_mode": {
    "name": "ipython",
    "version": 3
   },
   "file_extension": ".py",
   "mimetype": "text/x-python",
   "name": "python",
   "nbconvert_exporter": "python",
   "pygments_lexer": "ipython3",
   "version": "3.6.5"
  }
 },
 "nbformat": 4,
 "nbformat_minor": 2
}
