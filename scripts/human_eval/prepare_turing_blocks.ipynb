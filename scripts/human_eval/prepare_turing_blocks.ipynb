{
 "cells": [
  {
   "cell_type": "code",
   "execution_count": 115,
   "metadata": {},
   "outputs": [],
   "source": [
    "import json\n",
    "import random\n",
    "from eval import Evaluate\n",
    "import torch\n",
    "eval_f = Evaluate()"
   ]
  },
  {
   "cell_type": "code",
   "execution_count": 116,
   "metadata": {},
   "outputs": [],
   "source": [
    "def get_original_samples(path, is_unk):\n",
    "    abstracts = {}\n",
    "    with open(path) as f:\n",
    "        for line in f:\n",
    "            j = json.loads(line.strip())\n",
    "            if not is_unk:\n",
    "                abstracts[j[\"title\"]] = j[\"abstract\"]\n",
    "            else:\n",
    "                abstracts[j[\"abstract\"]] = j[\"title\"]\n",
    "    return abstracts        "
   ]
  },
  {
   "cell_type": "code",
   "execution_count": 117,
   "metadata": {},
   "outputs": [],
   "source": [
    "def get_generated_samples(path):\n",
    "    abstracts = {}\n",
    "    with open(path) as f:\n",
    "        for line in f:\n",
    "            j = json.loads(line.strip())\n",
    "            abstracts[j[\"original\"]] = j[\"generated\"]\n",
    "    return abstracts       "
   ]
  },
  {
   "cell_type": "code",
   "execution_count": 118,
   "metadata": {},
   "outputs": [],
   "source": [
    "def get_abstract_metrics(gen, org):\n",
    "    ref = {0 : [org]}\n",
    "    cand = {0 : gen}\n",
    "    final_scores = eval_f.evaluate(live=True, cand=cand, ref=ref)\n",
    "    return final_scores"
   ]
  },
  {
   "cell_type": "code",
   "execution_count": 149,
   "metadata": {},
   "outputs": [],
   "source": [
    "original_abstracts = get_original_samples(\"arxiv-dataset/arxiv-original.txt\", is_unk=False)\n",
    "original_unk = get_original_samples(\"arxiv-dataset/arxiv-UNK-abstracts.txt\", is_unk=True)\n",
    "abstract1 = get_generated_samples(\"arxiv-dataset/WEPGen/Arxiv-WE-Topics-Structure-IntraAttention-Polishing-BLEU-4=3.7366467606952156.txt\")\n",
    "abstract2 = get_generated_samples(\"arxiv-dataset/WEPGen/Arxiv-WE-Topics-Structure-IntraAttention-Polishing-BLEU-4=3.754111447858121.txt\")"
   ]
  },
  {
   "cell_type": "code",
   "execution_count": 150,
   "metadata": {},
   "outputs": [
    {
     "name": "stdout",
     "output_type": "stream",
     "text": [
      "Done 200\n",
      "Done 400\n",
      "Done 600\n",
      "Done 800\n",
      "Done 1000\n"
     ]
    }
   ],
   "source": [
    "ratings = []\n",
    "c = 0\n",
    "for key in abstract1.keys():\n",
    "    original_abs_UNK = key\n",
    "    title = original_unk[original_abs_UNK]\n",
    "    org = original_abstracts[title]\n",
    "    gen1 = abstract1[key]\n",
    "    gen2 = abstract2[key]\n",
    "    metrics = get_abstract_metrics(gen2, org)\n",
    "    ratings.append((title, org, gen1, gen2, metrics.values()))\n",
    "    c += 1\n",
    "    \n",
    "    if c % 200 == 0:\n",
    "        print(\"Done {}\".format(c))"
   ]
  },
  {
   "cell_type": "code",
   "execution_count": 151,
   "metadata": {},
   "outputs": [],
   "source": [
    "bleu_samples = sorted(ratings, reverse=True, key=lambda x: sum(list(x[-1])[:4]))[:100]\n",
    "meteor_samples = sorted(ratings, reverse=True, key=lambda x: list(x[-1])[4])[:100]\n",
    "rouge_samples = sorted(ratings, reverse=True, key=lambda x: list(x[-1])[5])[:100]\n",
    "combined_samples = sorted(ratings, reverse=True, key=lambda x: sum(x[-1]))[:100]"
   ]
  },
  {
   "cell_type": "code",
   "execution_count": 152,
   "metadata": {},
   "outputs": [],
   "source": [
    "bleu_set = set([b[:4] for b in bleu_samples])\n",
    "meteor_set = set([b[:4] for b in meteor_samples])\n",
    "rouge_set = set([b[:4] for b in rouge_samples])\n",
    "combined_set = set([b[:4] for b in combined_samples])"
   ]
  },
  {
   "cell_type": "code",
   "execution_count": 153,
   "metadata": {},
   "outputs": [],
   "source": [
    "A = bleu_set.intersection(meteor_set)\n",
    "B = A.intersection(rouge_set)\n",
    "final_set = list(B.intersection(combined_set))"
   ]
  },
  {
   "cell_type": "code",
   "execution_count": 154,
   "metadata": {},
   "outputs": [
    {
     "name": "stdout",
     "output_type": "stream",
     "text": [
      "24\n"
     ]
    }
   ],
   "source": [
    "print(len(final_set))"
   ]
  },
  {
   "cell_type": "code",
   "execution_count": 155,
   "metadata": {},
   "outputs": [],
   "source": [
    "qualtrics_final_same_title = {}\n",
    "i = 0\n",
    "for title, original, gen1, gen2 in final_set:\n",
    "    qualtrics_final_same_title[i] = [title, (original, \"Original\"), (gen1, \"WEPGen\"), (gen2, \"WEPGen\")]\n",
    "    i += 1"
   ]
  },
  {
   "cell_type": "code",
   "execution_count": 156,
   "metadata": {},
   "outputs": [],
   "source": [
    "with open(\"arxiv-dataset/Turing/Block-1/B1-W.txt\", \"w\") as f:\n",
    "    f.write(json.dumps(qualtrics_final_same_title))"
   ]
  },
  {
   "cell_type": "code",
   "execution_count": 157,
   "metadata": {},
   "outputs": [],
   "source": [
    "qualtrics_final_different_title = {}\n",
    "titles = list(original_abstracts.keys())\n",
    "i = 0\n",
    "for title, original, gen1, gen2 in final_set:\n",
    "    \n",
    "    # First original abstract\n",
    "    org_title1 = random.choice(titles)\n",
    "    org_abstract1 = original_abstracts[org_title1]\n",
    "    \n",
    "    # Second original abstract\n",
    "    org_title2 = random.choice(titles)\n",
    "    org_abstract2 = original_abstracts[org_title2]\n",
    "    \n",
    "    # Fake abstract\n",
    "    fake_title = title\n",
    "    fake_abstract = gen2\n",
    "    \n",
    "    qualtrics_final_different_title[i] = [(org_title1, org_abstract1, \"Original\"), (org_title2, org_abstract2, \"Original\"), (fake_title, fake_abstract, \"WEPGen\")]\n",
    "    i += 1\n",
    "    \n",
    "with open(\"arxiv-dataset/Turing/Block-2/B2-W.txt\", \"w\") as f:  \n",
    "    f.write(json.dumps(qualtrics_final_different_title))"
   ]
  },
  {
   "cell_type": "code",
   "execution_count": null,
   "metadata": {},
   "outputs": [],
   "source": []
  }
 ],
 "metadata": {
  "kernelspec": {
   "display_name": "Python 3",
   "language": "python",
   "name": "python3"
  },
  "language_info": {
   "codemirror_mode": {
    "name": "ipython",
    "version": 3
   },
   "file_extension": ".py",
   "mimetype": "text/x-python",
   "name": "python",
   "nbconvert_exporter": "python",
   "pygments_lexer": "ipython3",
   "version": "3.6.5"
  }
 },
 "nbformat": 4,
 "nbformat_minor": 2
}
