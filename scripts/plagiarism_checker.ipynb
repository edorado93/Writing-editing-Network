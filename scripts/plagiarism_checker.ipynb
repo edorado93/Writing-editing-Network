{
 "cells": [
  {
   "cell_type": "code",
   "execution_count": 1,
   "metadata": {},
   "outputs": [],
   "source": [
    "import json\n",
    "from collections import Counter"
   ]
  },
  {
   "cell_type": "code",
   "execution_count": 2,
   "metadata": {},
   "outputs": [],
   "source": [
    "def get_data_ngrams(data, n_grams):\n",
    "    grams = set([])\n",
    "    for line in data:\n",
    "        line = line.split()\n",
    "        for i in range(len(line) - n_grams + 1):\n",
    "            grams.add(\" \".join(line[i : i + n_grams]))\n",
    "    return grams        "
   ]
  },
  {
   "cell_type": "code",
   "execution_count": 3,
   "metadata": {},
   "outputs": [],
   "source": [
    "def plagiarism_check(n_grams, training, test):\n",
    "    training_grams = get_data_ngrams(training, n_grams)\n",
    "    test_grams = get_data_ngrams(test, n_grams)\n",
    "    common = training_grams.intersection(test_grams)\n",
    "    return 100 * (len(common) / len(test_grams))"
   ]
  },
  {
   "cell_type": "markdown",
   "metadata": {},
   "source": [
    "### Plagiarism Results for ACL Onthology Dataset \n",
    "\n",
    "| n            | 1    | 2  | 3    | 4    | 5    | 6    |\n",
    "|--------------|------|----|------|------|------|------|\n",
    "| Human        | 81.4 | 59 | 31.6 | 13.5 | 5.7  | 2.7  |\n",
    "| Kevin Knight | 100  | 78 | 47.4 | 21.5 | 8.82 | 3.43 |\n",
    "| WEPGen       | 100  | 82 | 52   | 24   | 9.5  | 3.68 |\n",
    "\n",
    "### Plagiarism Results for XMLA Dataset \n",
    "\n",
    "| n            | 1   | 2    | 3    | 4    | 5     | 6   |\n",
    "|--------------|-----|------|------|------|-------|-----|\n",
    "| Human        | 86  | 71   | 44   | 21.4 | 10    | 5.1 |\n",
    "| Kevin Knight | 100 | 81.6 | 58.4 | 30   | 13.72 | 6   |\n",
    "| WEPGen       | 100 | 89   | 66   | 37   | 17.2  | 7.5 |\n"
   ]
  },
  {
   "cell_type": "code",
   "execution_count": 7,
   "metadata": {},
   "outputs": [
    {
     "name": "stdout",
     "output_type": "stream",
     "text": [
      "n-grams: 1, common: 86.0503047471886%\n",
      "n-grams: 2, common: 70.64496229431833%\n",
      "n-grams: 3, common: 43.91544687322076%\n",
      "n-grams: 4, common: 21.42736417755354%\n",
      "n-grams: 5, common: 10.012041558504427%\n",
      "n-grams: 6, common: 5.120974530411987%\n",
      "n-grams: 7, common: 3.1645912453129985%\n"
     ]
    }
   ],
   "source": [
    "test_data = []\n",
    "with open(\"arxiv-dataset/arxiv-original.txt\") as f:\n",
    "    for line in f:\n",
    "        j = json.loads(line)\n",
    "        test_data.append(j[\"abstract\"])\n",
    "\n",
    "training_data = []\n",
    "with open(\"arxiv-dataset/train_arxiv.txt\") as f:\n",
    "    for line in f:\n",
    "        j = json.loads(line)\n",
    "        training_data.append(j[\"abstract\"])  \n",
    "\n",
    "for n_grams in range(1, 8):\n",
    "    print(\"n-grams: {}, common: {}%\".format(n_grams, plagiarism_check(n_grams, training_data, test_data)))        "
   ]
  },
  {
   "cell_type": "code",
   "execution_count": null,
   "metadata": {},
   "outputs": [],
   "source": []
  }
 ],
 "metadata": {
  "kernelspec": {
   "display_name": "Python 3",
   "language": "python",
   "name": "python3"
  },
  "language_info": {
   "codemirror_mode": {
    "name": "ipython",
    "version": 3
   },
   "file_extension": ".py",
   "mimetype": "text/x-python",
   "name": "python",
   "nbconvert_exporter": "python",
   "pygments_lexer": "ipython3",
   "version": "3.6.5"
  }
 },
 "nbformat": 4,
 "nbformat_minor": 2
}
