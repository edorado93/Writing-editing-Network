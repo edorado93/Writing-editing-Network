{
 "cells": [
  {
   "cell_type": "markdown",
   "metadata": {},
   "source": [
    "# Sampling from PubMed State Diagram\n",
    "* We have our entire corpus in the file `corpus.txt`.\n",
    "* Each JSON object in it looks like this \n",
    "```{\n",
    "   \"abstract\" : \"most ethical work is done at a low level of formality . this makes practical moral questions inaccessible to formal and natural sciences and can lead to misunderstandings in ethical discussion . in this paper , we use bayesian inference to introduce a formalization of preference utilitarianism in physical world models , specifically cellular automata . even though our formalization is not immediately applicable , it is a first step in providing ethics and ultimately the question of how to '' make the world better '' with a formal basis .\",\n",
    "   \"title\" : \"formalizing preference utilitarianism in physical world models\",\n",
    "   \"topics\" : [\n",
    "      \"high- and low-level\"\n",
    "   ]\n",
    "}```\n",
    "\n",
    "* We sample according to the following state diagram\n",
    "\n",
    "    ```introduction --> introduction 0.4843879840176284\n",
    "   introduction --> body 0.4973145898875659\n",
    "   introduction --> conclusion 0.018297426094805728\n",
    "   body --> body 0.7448890860332114\n",
    "   body --> conclusion 0.2546632821554486```"
   ]
  },
  {
   "cell_type": "code",
   "execution_count": 1,
   "metadata": {},
   "outputs": [],
   "source": [
    "import json\n",
    "import random\n",
    "with open(\"pubmed-state-diagram-annotator.txt\", \"w\") as f1:\n",
    "    with open(\"corpus.txt\") as f:\n",
    "        for line in f:\n",
    "            j = json.loads(line)\n",
    "            abstract = j[\"abstract\"].split()\n",
    "            label = \"introduction\"\n",
    "            labels = []\n",
    "            for i, word in enumerate(abstract):\n",
    "                if word == \".\" and abstract[i - 1] not in ['(', '-', 'e', ':', '[']:\n",
    "                    sample = random.random()    \n",
    "                    if label == \"introduction\":\n",
    "                        if sample <= 0.4843879840176284:\n",
    "                            label = \"introduction\"\n",
    "                        elif sample >= 0.9817025739:\n",
    "                            label = \"conclusion\"\n",
    "                        else:\n",
    "                            label = \"body\"\n",
    "                    elif label == \"body\":\n",
    "                        if sample > 0.7448890860332114:\n",
    "                            label = \"conclusion\" \n",
    "                labels.append(label)           \n",
    "            j[\"labels\"] = labels\n",
    "            f1.write(json.dumps(j)+\"\\n\")"
   ]
  }
 ],
 "metadata": {
  "kernelspec": {
   "display_name": "Python 3",
   "language": "python",
   "name": "python3"
  },
  "language_info": {
   "codemirror_mode": {
    "name": "ipython",
    "version": 3
   },
   "file_extension": ".py",
   "mimetype": "text/x-python",
   "name": "python",
   "nbconvert_exporter": "python",
   "pygments_lexer": "ipython3",
   "version": "3.6.5"
  }
 },
 "nbformat": 4,
 "nbformat_minor": 2
}
